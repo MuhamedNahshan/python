{
  "nbformat": 4,
  "nbformat_minor": 0,
  "metadata": {
    "colab": {
      "provenance": [],
      "authorship_tag": "ABX9TyNxaLpyifDRt/+BrzK0ILxj",
      "include_colab_link": true
    },
    "kernelspec": {
      "name": "python3",
      "display_name": "Python 3"
    },
    "language_info": {
      "name": "python"
    }
  },
  "cells": [
    {
      "cell_type": "markdown",
      "metadata": {
        "id": "view-in-github",
        "colab_type": "text"
      },
      "source": [
        "<a href=\"https://colab.research.google.com/github/MuhamedNahshan/python/blob/main/PythonClass.ipynb\" target=\"_parent\"><img src=\"https://colab.research.google.com/assets/colab-badge.svg\" alt=\"Open In Colab\"/></a>"
      ]
    },
    {
      "cell_type": "code",
      "execution_count": null,
      "metadata": {
        "colab": {
          "base_uri": "https://localhost:8080/"
        },
        "id": "bRc8OCizDAZj",
        "outputId": "5374ceda-43dc-4eae-8210-1190d5834ae2"
      },
      "outputs": [
        {
          "output_type": "stream",
          "name": "stdout",
          "text": [
            "1\n",
            "2\n",
            "[6, 7, 8.5]\n",
            "5\n",
            "7\n",
            "[6.8, 8.4]\n"
          ]
        }
      ],
      "source": [
        "list = [1,2,[6,7,8.5],5,7,[6.8,8.4]]\n",
        "for i in list:\n",
        "              print(i)"
      ]
    },
    {
      "cell_type": "code",
      "source": [
        "list = [\"abu\",\"Salman\",\"savad\"]\n",
        "print(list[0])"
      ],
      "metadata": {
        "id": "mzDzN1w1DGbf",
        "colab": {
          "base_uri": "https://localhost:8080/"
        },
        "outputId": "3df63652-345d-4046-d2eb-7beaf223b775"
      },
      "execution_count": null,
      "outputs": [
        {
          "output_type": "stream",
          "name": "stdout",
          "text": [
            "abu\n"
          ]
        }
      ]
    },
    {
      "cell_type": "markdown",
      "source": [
        "Subscript operator"
      ],
      "metadata": {
        "id": "Sozk93Y_Gvbg"
      }
    },
    {
      "cell_type": "code",
      "source": [
        "natural = [1,2,3,4,5,6,7,8,9]\n",
        "print(natural[0])\n",
        "print(natural[2:5])\n",
        "print(natural[-1])\n",
        "print(natural[-3:])\n",
        "print(natural[6-2])"
      ],
      "metadata": {
        "colab": {
          "base_uri": "https://localhost:8080/"
        },
        "id": "7ul9yFjCG-d8",
        "outputId": "ec829860-8557-4c1c-d0b2-e367f40812a4"
      },
      "execution_count": null,
      "outputs": [
        {
          "output_type": "stream",
          "name": "stdout",
          "text": [
            "1\n",
            "[3, 4, 5]\n",
            "9\n",
            "[7, 8, 9]\n",
            "5\n"
          ]
        }
      ]
    },
    {
      "cell_type": "code",
      "source": [
        "list = [1,2,3,4,5,6,7,8,9]\n",
        "print(list[2:5])\n",
        "print(list[3:])\n",
        "print(list[:5])\n",
        "print(list[3:7])\n",
        "print(list[:])\n",
        "print(list[:-5])\n",
        "print(list[-4:])"
      ],
      "metadata": {
        "colab": {
          "base_uri": "https://localhost:8080/"
        },
        "id": "j5wkZbPsI700",
        "outputId": "81e61374-563d-423e-a218-907042c07b0a"
      },
      "execution_count": null,
      "outputs": [
        {
          "output_type": "stream",
          "name": "stdout",
          "text": [
            "[3, 4, 5]\n",
            "[4, 5, 6, 7, 8, 9]\n",
            "[1, 2, 3, 4, 5]\n",
            "[4, 5, 6, 7]\n",
            "[1, 2, 3, 4, 5, 6, 7, 8, 9]\n",
            "[1, 2, 3, 4]\n",
            "[6, 7, 8, 9]\n"
          ]
        }
      ]
    },
    {
      "cell_type": "markdown",
      "source": [
        "CONCATENATION OF LIST USING+"
      ],
      "metadata": {
        "id": "3wRyp_ziG3zG"
      }
    },
    {
      "cell_type": "code",
      "source": [
        "list1 = [1,2,3,4,5]\n",
        "list0= list1+[6,7,8]\n",
        "print(list1)\n",
        "print(list0)"
      ],
      "metadata": {
        "colab": {
          "base_uri": "https://localhost:8080/"
        },
        "id": "HTgfp8ipKBih",
        "outputId": "4fb79b78-3975-4ecf-9b84-613570edee9a"
      },
      "execution_count": null,
      "outputs": [
        {
          "output_type": "stream",
          "name": "stdout",
          "text": [
            "[1, 2, 3, 4, 5]\n",
            "[1, 2, 3, 4, 5, 6, 7, 8]\n"
          ]
        }
      ]
    },
    {
      "cell_type": "markdown",
      "source": [
        "EQUALITY OPERATOR (==) WELL ON LIST"
      ],
      "metadata": {
        "id": "hpi_g65TKotI"
      }
    },
    {
      "cell_type": "code",
      "source": [
        "even=[2,4,6,8]\n",
        "odd=[1,3,5,7,9,11,13]\n",
        "even1=[6,10,22]\n",
        "print(even>odd)\n",
        "print(even<odd)\n",
        "print(even>even1)"
      ],
      "metadata": {
        "colab": {
          "base_uri": "https://localhost:8080/"
        },
        "id": "mvUzhAy4KwwA",
        "outputId": "33f38f37-731f-4051-ba6a-f961fb841a8d"
      },
      "execution_count": null,
      "outputs": [
        {
          "output_type": "stream",
          "name": "stdout",
          "text": [
            "True\n",
            "False\n",
            "False\n"
          ]
        }
      ]
    },
    {
      "cell_type": "markdown",
      "source": [
        "MEMBERSHIP OPERATOR IN LIST"
      ],
      "metadata": {
        "id": "a2niHWqBLd3T"
      }
    },
    {
      "cell_type": "markdown",
      "source": [],
      "metadata": {
        "id": "8LqIJ7QLLt44"
      }
    },
    {
      "cell_type": "code",
      "source": [
        "even=[2,4,6,8]\n",
        "\n",
        "print(even)"
      ],
      "metadata": {
        "colab": {
          "base_uri": "https://localhost:8080/"
        },
        "id": "GNKy8OscLino",
        "outputId": "a84920eb-736f-42f8-a0ba-3ab98da224fb"
      },
      "execution_count": null,
      "outputs": [
        {
          "output_type": "stream",
          "name": "stdout",
          "text": [
            "[2, 4, 6, 8]\n"
          ]
        }
      ]
    },
    {
      "cell_type": "code",
      "source": [],
      "metadata": {
        "id": "E83E5FVTUERH"
      },
      "execution_count": null,
      "outputs": []
    },
    {
      "cell_type": "markdown",
      "source": [
        "REPLACING"
      ],
      "metadata": {
        "id": "qWVFhAopL0US"
      }
    },
    {
      "cell_type": "code",
      "source": [
        "list1=[2,4,8]\n",
        "list1[1]=16\n",
        "print(hulist1)"
      ],
      "metadata": {
        "colab": {
          "base_uri": "https://localhost:8080/"
        },
        "id": "Vrls1GD8L5yJ",
        "outputId": "671b2abe-a15f-46a2-917b-f0de722b2d2e"
      },
      "execution_count": null,
      "outputs": [
        {
          "output_type": "stream",
          "name": "stdout",
          "text": [
            "[2, 16, 8]\n"
          ]
        }
      ]
    },
    {
      "cell_type": "markdown",
      "source": [],
      "metadata": {
        "id": "CgoNqD5TMYCL"
      }
    },
    {
      "cell_type": "code",
      "source": [
        "Functions"
      ],
      "metadata": {
        "id": "D6NzZBHoUFoH"
      },
      "execution_count": null,
      "outputs": []
    },
    {
      "cell_type": "code",
      "source": [
        "def factorial(num):\n",
        "  fact = 1\n",
        "  for i in range(1,num+1):\n",
        "    fact=fact*i\n",
        "  print(fact)\n",
        "\n",
        "num=int(input(\"enter type b\"))\n",
        "factorial(num)"
      ],
      "metadata": {
        "colab": {
          "base_uri": "https://localhost:8080/"
        },
        "id": "INVgxrBknoOZ",
        "outputId": "a408f382-2545-486a-fcad-668b0e26ce26"
      },
      "execution_count": null,
      "outputs": [
        {
          "output_type": "stream",
          "name": "stdout",
          "text": [
            "enter type b5\n",
            "120\n"
          ]
        }
      ]
    },
    {
      "cell_type": "code",
      "source": [
        "celcius to farenheit"
      ],
      "metadata": {
        "id": "ZjJkThmRpvyD"
      },
      "execution_count": null,
      "outputs": []
    },
    {
      "cell_type": "code",
      "source": [
        "def celcius_to_fahrenheit(c):\n",
        "      f=(c*9/5)+32\n",
        "      print(f)\n",
        " #main\n",
        "b=float(input(\"celcius\"))\n",
        "celcius_to_fahrenheit(b)"
      ],
      "metadata": {
        "colab": {
          "base_uri": "https://localhost:8080/"
        },
        "id": "OsZ4E2OfpzcK",
        "outputId": "59c444ae-c8e0-42e4-e63d-5422293f9558"
      },
      "execution_count": null,
      "outputs": [
        {
          "output_type": "stream",
          "name": "stdout",
          "text": [
            "celcius4.5\n",
            "40.1\n"
          ]
        }
      ]
    },
    {
      "cell_type": "code",
      "source": [
        "def even_number_in_list(e):\n",
        "   c=[]\n",
        "   for a in e:\n",
        "       if a%2==0:\n",
        "        c.append(a)\n",
        "   print(c)\n",
        "e=[]\n",
        "n=int(input(\"size:\"))\n",
        "for i in range(n):\n",
        "   e.append(int(input(\"Number:\")))\n",
        "even_number_in_list(e)"
      ],
      "metadata": {
        "colab": {
          "base_uri": "https://localhost:8080/"
        },
        "id": "8ITPPW2YrFM2",
        "outputId": "c8d8a450-3edd-4346-b43b-3d19e06c2959"
      },
      "execution_count": null,
      "outputs": [
        {
          "output_type": "stream",
          "name": "stdout",
          "text": [
            "size:5\n",
            "Number:1\n",
            "Number:2\n",
            "Number:3\n",
            "Number:4\n",
            "Number:5\n",
            "[2, 4]\n"
          ]
        }
      ]
    }
  ]
}